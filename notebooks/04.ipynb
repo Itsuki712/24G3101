{
  "cells": [
    {
      "cell_type": "markdown",
      "source": [
        "# 4 データ構造"
      ],
      "metadata": {
        "id": "UgKLRwAfhj39"
      },
      "id": "UgKLRwAfhj39"
    },
    {
      "cell_type": "markdown",
      "source": [
        "\n",
        "教科書では，ライブラリを使わずに解決した後で，4.3節でライブラリを使って解決している。\n",
        "\n",
        "ここでは，まずライブラリを使って解決し，その後でライブラリを使わずにデータ構造を実装して解決する。"
      ],
      "metadata": {
        "id": "LTqHLimThj3-"
      },
      "id": "LTqHLimThj3-"
    },
    {
      "cell_type": "markdown",
      "source": [
        "## 4.1 データ構造とは：問題にチャレンジする前に"
      ],
      "metadata": {
        "id": "W8VO-yzdhj3_"
      },
      "id": "W8VO-yzdhj3_"
    },
    {
      "cell_type": "markdown",
      "source": [
        "ランダムアクセスが大事なら、一列に並べる\n",
        "途中のinsert,deleteがよくあるなら\n",
        "別の方法、（別のデータ構造）が必要"
      ],
      "metadata": {
        "id": "bvTik4OXhj3_"
      },
      "id": "bvTik4OXhj3_"
    },
    {
      "cell_type": "markdown",
      "source": [
        "## 4.2 スタック"
      ],
      "metadata": {
        "id": "r6uwtONhhj3_"
      },
      "id": "r6uwtONhhj3_"
    },
    {
      "cell_type": "markdown",
      "source": [
        "\n",
        "アルゴリズム図鑑，『独学プログラマー』の第21章\n",
        "\n",
        "後入れ先出し（Last In First Out，LIFO）のデータ構造である。\n",
        "\n",
        "問題：[A51](https://atcoder.jp/contests/tessoku-book/tasks/tessoku_book_ay) (Stack)\n",
        "\n",
        "入力データを作る。"
      ],
      "metadata": {
        "id": "K7VmIdDNhj3_"
      },
      "id": "K7VmIdDNhj3_"
    },
    {
      "cell_type": "code",
      "execution_count": 2,
      "metadata": {
        "colab": {
          "base_uri": "https://localhost:8080/"
        },
        "id": "F58Q6lpzhj4A",
        "outputId": "df7398f3-6d6d-48d5-8f6a-1aca006bb337"
      },
      "outputs": [
        {
          "output_type": "stream",
          "name": "stdout",
          "text": [
            "Overwriting input.dat\n"
          ]
        }
      ],
      "source": [
        "%%writefile input.dat\n",
        "5\n",
        "1 futuremap\n",
        "1 howtospeak\n",
        "2\n",
        "3\n",
        "2"
      ],
      "id": "F58Q6lpzhj4A"
    },
    {
      "cell_type": "markdown",
      "source": [
        "出力データを作る。"
      ],
      "metadata": {
        "id": "0bd0t_rDhj4A"
      },
      "id": "0bd0t_rDhj4A"
    },
    {
      "cell_type": "code",
      "execution_count": 6,
      "metadata": {
        "colab": {
          "base_uri": "https://localhost:8080/"
        },
        "id": "ue0K5Aa4hj4A",
        "outputId": "b290985d-7c47-4f97-f157-9beda9e329a1"
      },
      "outputs": [
        {
          "output_type": "stream",
          "name": "stdout",
          "text": [
            "Overwriting answer.dat\n"
          ]
        }
      ],
      "source": [
        "%%writefile answer.dat\n",
        "howtospeak\n",
        "futuremap"
      ],
      "id": "ue0K5Aa4hj4A"
    },
    {
      "cell_type": "markdown",
      "source": [
        "### ライブラリを使う場合"
      ],
      "metadata": {
        "id": "buMOllWIhj4B"
      },
      "id": "buMOllWIhj4B"
    },
    {
      "cell_type": "markdown",
      "source": [
        "\n",
        "`collections.deque`を使う。次のようなメソッドがある。\n",
        "\n",
        "| 一般的な呼び方 | `A = deque()` | メモ                   |\n",
        "|----------------|---------------|------------------------|\n",
        "| `push(x)`      | `A.append(x)` | 要素の追加             |\n",
        "| `pop()`        | `A.pop()`     | 最後尾要素の削除と取得 |\n",
        "| `top()`        | `A[-1]`       | 最後尾要素の取得       |\n",
        "\n",
        "コードを書く。"
      ],
      "metadata": {
        "id": "kLojITNphj4B"
      },
      "id": "kLojITNphj4B"
    },
    {
      "cell_type": "code",
      "source": [
        "from re import S\n",
        "\n",
        "from collections import deque\n",
        "\n",
        "stack = deque()\n",
        "\n",
        "stack.append(\"huturework\")\n",
        "stack.append(\"howtospeak\")\n",
        "print(stack[-1])\n",
        "stack.pop()\n",
        "print(stack[-1])"
      ],
      "metadata": {
        "id": "Ml05yxbmoblv"
      },
      "id": "Ml05yxbmoblv",
      "execution_count": 12,
      "outputs": []
    },
    {
      "cell_type": "code",
      "source": [
        "n = int(input())\n",
        "\n",
        "from collections import deque\n",
        "\n",
        "stack = deque()\n",
        "\n",
        "for _ in range(n):\n",
        "  tmp = input().split()\n",
        "  if tmp[0] == \"1\": stack.append(tmp[1])\n",
        "  elif tmp[0] == \"2\": print(stack.pop())\n",
        "  else: stack.pop()"
      ],
      "metadata": {
        "id": "B0wFaRHJraEm"
      },
      "id": "B0wFaRHJraEm",
      "execution_count": null,
      "outputs": []
    },
    {
      "cell_type": "code",
      "execution_count": 8,
      "metadata": {
        "colab": {
          "base_uri": "https://localhost:8080/"
        },
        "id": "4l7tmdzEhj4B",
        "outputId": "2d9d84cd-ad7c-42f4-de47-4933a0c4fc98"
      },
      "outputs": [
        {
          "output_type": "stream",
          "name": "stdout",
          "text": [
            "Overwriting test.py\n"
          ]
        }
      ],
      "source": [
        "%%writefile test.py\n",
        "n = int(input())"
      ],
      "id": "4l7tmdzEhj4B"
    },
    {
      "cell_type": "markdown",
      "source": [
        "実行する。"
      ],
      "metadata": {
        "id": "hphlucSmhj4B"
      },
      "id": "hphlucSmhj4B"
    },
    {
      "cell_type": "code",
      "execution_count": null,
      "metadata": {
        "id": "jEJSxl32hj4B"
      },
      "outputs": [],
      "source": [
        "!python3 test.py < input.dat"
      ],
      "id": "jEJSxl32hj4B"
    },
    {
      "cell_type": "markdown",
      "source": [
        "出力例と比較する。"
      ],
      "metadata": {
        "id": "9uQHYVXlhj4B"
      },
      "id": "9uQHYVXlhj4B"
    },
    {
      "cell_type": "code",
      "execution_count": null,
      "metadata": {
        "id": "mlsC_91Ohj4B"
      },
      "outputs": [],
      "source": [
        "!python3 test.py < input.dat > output.dat\n",
        "!diff output.dat answer.dat"
      ],
      "id": "mlsC_91Ohj4B"
    },
    {
      "cell_type": "markdown",
      "source": [
        "問題がなければ提出する。"
      ],
      "metadata": {
        "id": "yAwFNebAhj4C"
      },
      "id": "yAwFNebAhj4C"
    },
    {
      "cell_type": "markdown",
      "source": [
        "### ライブラリを使わない場合"
      ],
      "metadata": {
        "id": "Nx3xsbxShj4C"
      },
      "id": "Nx3xsbxShj4C"
    },
    {
      "cell_type": "markdown",
      "source": [
        "\n",
        "教科書p.86「ポイント」を意識して，クラス`Stack`を実装する。ライブラリを使う場合のコードへの変更が最小限になるようにしよう。`stack = deque()`としていたなら，次の変更が必要だろう。\n",
        "\n",
        "-   `Stack`の定義を追加する。\n",
        "-   `stack = deque()`を`stack = Stack()`に変える。\n",
        "-   `stack[-1]`を`stack.top()`に変える。\n",
        "\n",
        "> PythonでクラスStackを作る。データはリストで管理する。公開メソッドはappend，pop，topだけ。topは最後尾要素の取得（削除しない）\n",
        "\n",
        "生成されるコードの例を示す。"
      ],
      "metadata": {
        "id": "D_hKp05Phj4C"
      },
      "id": "D_hKp05Phj4C"
    },
    {
      "cell_type": "code",
      "execution_count": null,
      "metadata": {
        "id": "SkigWYHrhj4C"
      },
      "outputs": [],
      "source": [
        "%%writefile Stack.py\n",
        "class Stack:\n",
        "  def __init__(self):\n",
        "    self._data = []\n",
        "\n",
        "  def append(self, value):\n",
        "    self._data.append(value)\n",
        "\n",
        "  def pop(self):\n",
        "    return self._data.pop()\n",
        "\n",
        "  def top(self):\n",
        "    return self._data[-1]\n",
        "\n",
        "    n = int(input())\n",
        "\n",
        "from collections import deque\n",
        "\n",
        "stack = Stack()\n",
        "\n",
        "for _ in range(n):\n",
        "  tmp = input().split()\n",
        "  if tmp[0] == \"1\": stack.append(tmp[1])\n",
        "  elif tmp[0] == \"2\": print(stack.pop())\n",
        "  else: stack.pop()"
      ],
      "id": "SkigWYHrhj4C"
    },
    {
      "cell_type": "markdown",
      "source": [
        "ここでもう一度提出する。\n",
        "\n",
        "♠次の問題も，二つの方法（ライブラリを使う方法と使わない方法）で解いてみよう。\n",
        "\n",
        "問題：[ALDS1_3_A](https://onlinejudge.u-aizu.ac.jp/courses/lesson/1/ALDS1/3/ALDS1_3_A) (Stack)\n",
        "\n",
        "参考：[電気通信大学の2025年度入試問題から，大問3 - 数式を処理するプログラムを作る](https://note.com/ipsj/n/n4aed36c58756)"
      ],
      "metadata": {
        "id": "NZtTRWqthj4C"
      },
      "id": "NZtTRWqthj4C"
    },
    {
      "cell_type": "markdown",
      "source": [
        "## 4.3 キュー"
      ],
      "metadata": {
        "id": "fymVK6glhj4D"
      },
      "id": "fymVK6glhj4D"
    },
    {
      "cell_type": "markdown",
      "source": [
        "\n",
        "アルゴリズム図鑑，『独学プログラマー』の第21章\n",
        "\n",
        "先入れ先出し（First In First Out，FIFO）のデータ構造である。\n",
        "\n",
        "問題：[A52](https://atcoder.jp/contests/tessoku-book/tasks/tessoku_book_az) (Queue)\n",
        "\n",
        "入力データを作る。"
      ],
      "metadata": {
        "id": "Gnyo4xC5hj4D"
      },
      "id": "Gnyo4xC5hj4D"
    },
    {
      "cell_type": "code",
      "execution_count": 13,
      "metadata": {
        "colab": {
          "base_uri": "https://localhost:8080/"
        },
        "id": "T7lgRIFEhj4D",
        "outputId": "a3c06c98-31ac-4882-957b-4a51c6807d9c"
      },
      "outputs": [
        {
          "output_type": "stream",
          "name": "stdout",
          "text": [
            "Overwriting input.dat\n"
          ]
        }
      ],
      "source": [
        "%%writefile input.dat\n",
        "5\n",
        "1 futuremap\n",
        "1 howtospeak\n",
        "2\n",
        "3\n",
        "2"
      ],
      "id": "T7lgRIFEhj4D"
    },
    {
      "cell_type": "markdown",
      "source": [
        "出力データを作る。"
      ],
      "metadata": {
        "id": "NtrpbrxBhj4D"
      },
      "id": "NtrpbrxBhj4D"
    },
    {
      "cell_type": "code",
      "execution_count": 14,
      "metadata": {
        "colab": {
          "base_uri": "https://localhost:8080/"
        },
        "id": "cMK2hwNthj4D",
        "outputId": "097c51bf-1464-4178-f5eb-eea305bda453"
      },
      "outputs": [
        {
          "output_type": "stream",
          "name": "stdout",
          "text": [
            "Overwriting answer.dat\n"
          ]
        }
      ],
      "source": [
        "%%writefile answer.dat\n",
        "howtospeak\n",
        "futuremap"
      ],
      "id": "cMK2hwNthj4D"
    },
    {
      "cell_type": "markdown",
      "source": [
        "### ライブラリを使う場合"
      ],
      "metadata": {
        "id": "ZyMPX5vQhj4D"
      },
      "id": "ZyMPX5vQhj4D"
    },
    {
      "cell_type": "markdown",
      "source": [
        "\n",
        "`collections.deque`を使う。次のようなメソッドがある。\n",
        "\n",
        "| 一般的な呼び方 | `A = deque()` | メモ                            |\n",
        "|----------------|---------------|---------------------------------|\n",
        "| `isEmpty()`    | `A`           | 空かどうかを`if A:`で判定する。 |\n",
        "| `enqueue(x)`   | `A.append(x)` | 先頭要素の追加                  |\n",
        "| `dequeue()`    | `A.popleft()` | 先頭要素の削除と取得            |\n",
        "| `front()`      | `A[0]`        | 先頭要素の取得                  |\n",
        "\n",
        "コードを書く。"
      ],
      "metadata": {
        "id": "HewYm6dthj4D"
      },
      "id": "HewYm6dthj4D"
    },
    {
      "cell_type": "code",
      "execution_count": 15,
      "metadata": {
        "colab": {
          "base_uri": "https://localhost:8080/"
        },
        "id": "b-1uFIR-hj4D",
        "outputId": "2664be58-1888-4e66-d11f-516f3ccefde0"
      },
      "outputs": [
        {
          "output_type": "stream",
          "name": "stdout",
          "text": [
            "Overwriting test.py\n"
          ]
        }
      ],
      "source": [
        "%%writefile test.py\n",
        "from collections import deque\n",
        "\n",
        "queue = deque\n",
        "\n",
        "n = int(input())\n",
        "\n",
        "for _ in range(n):\n",
        "  tmp = input().split()\n",
        "  if tmp[0] == \"1\": queue.append(tmp[1])\n",
        "  elif tmp[0] == \"2\": print(queue.popleft())"
      ],
      "id": "b-1uFIR-hj4D"
    },
    {
      "cell_type": "markdown",
      "source": [
        "実行する。"
      ],
      "metadata": {
        "id": "PQZn6xHVhj4D"
      },
      "id": "PQZn6xHVhj4D"
    },
    {
      "cell_type": "code",
      "execution_count": null,
      "metadata": {
        "id": "nAd3iFPShj4D"
      },
      "outputs": [],
      "source": [
        "!python3 test.py < input.dat"
      ],
      "id": "nAd3iFPShj4D"
    },
    {
      "cell_type": "markdown",
      "source": [
        "出力例と比較する。"
      ],
      "metadata": {
        "id": "344mBKJ3hj4E"
      },
      "id": "344mBKJ3hj4E"
    },
    {
      "cell_type": "code",
      "execution_count": null,
      "metadata": {
        "id": "sZISsHh-hj4E"
      },
      "outputs": [],
      "source": [
        "!python3 test.py < input.dat > output.dat\n",
        "!diff output.dat answer.dat"
      ],
      "id": "sZISsHh-hj4E"
    },
    {
      "cell_type": "markdown",
      "source": [
        "問題がなければ提出する。"
      ],
      "metadata": {
        "id": "J7c0O94Zhj4E"
      },
      "id": "J7c0O94Zhj4E"
    },
    {
      "cell_type": "markdown",
      "source": [
        "### ライブラリを使わない場合"
      ],
      "metadata": {
        "id": "Bw_nYubxhj4E"
      },
      "id": "Bw_nYubxhj4E"
    },
    {
      "cell_type": "markdown",
      "source": [
        "\n",
        "クラス`Queue`を実装する。ここでは，教科書4.3節に合わせてリングバッファを使用する。ライブラリを使う場合のコードへの変更が最小限になるようにしよう。`queue = deque()`としていたなら，次の変更が必要だろう。\n",
        "\n",
        "-   `Queue`の定義を追加する。\n",
        "-   `queue = deque()`を`queue = Queue()`に変える。\n",
        "-   `queue[0]`を`queue.front()`に変える。\n",
        "\n",
        "> PythonでクラスQueueを作る。データはリングバッファで管理する。リングバッファの実体はリストで，最大サイズは100000。公開メソッドはisEmpty, append, popleft, frontだけ。frontは先頭要素の取得（削除しない）\n",
        "\n",
        "生成されるコードを修正した例を示す。"
      ],
      "metadata": {
        "id": "SQ1DGl7Ehj4E"
      },
      "id": "SQ1DGl7Ehj4E"
    },
    {
      "cell_type": "code",
      "execution_count": null,
      "metadata": {
        "id": "WFpkEayOhj4E"
      },
      "outputs": [],
      "source": [
        "%%writefile Queue.py\n",
        "class Queue:\n",
        "  def __init__(self):\n",
        "    self.size = 100000\n",
        "    self.buffer = [None] * self.size\n",
        "    self.head = 0\n",
        "    self.tail = 0\n",
        "    self.count = 0\n",
        "\n",
        "  def isEmpty(self):\n",
        "    return self.count == 0\n",
        "\n",
        "  def append(self, value):\n",
        "    if self.count == self.size: raise OverflowError(\"Queue is full\")\n",
        "    self.buffer[self.tail] = value\n",
        "    self.tail = (self.tail + 1) % self.size\n",
        "    self.count += 1\n",
        "\n",
        "  def popleft(self):\n",
        "    if self.isEmpty(): raise IndexError(\"Queue is empty\")\n",
        "    value = self.buffer[self.head]\n",
        "    self.head = (self.head + 1) % self.size\n",
        "    self.count -= 1\n",
        "    return value\n",
        "\n",
        "  def front(self):\n",
        "    if self.isEmpty(): raise IndexError(\"Queue is empty\")\n",
        "    return self.buffer[self.head]"
      ],
      "id": "WFpkEayOhj4E"
    },
    {
      "cell_type": "markdown",
      "source": [
        "♠次の問題も，二つの方法（ライブラリを使う方法と使わない方法）で解いてみよう。\n",
        "\n",
        "問題：[ALDS1_3_B](https://onlinejudge.u-aizu.ac.jp/courses/lesson/1/ALDS1/3/ALDS1_3_B) (Queue)"
      ],
      "metadata": {
        "id": "vUoHJBd-hj4E"
      },
      "id": "vUoHJBd-hj4E"
    },
    {
      "cell_type": "markdown",
      "source": [
        "## 4.4 連結リスト"
      ],
      "metadata": {
        "id": "8We5juIFhj4E"
      },
      "id": "8We5juIFhj4E"
    },
    {
      "cell_type": "markdown",
      "source": [
        "\n",
        "データ構造でいう**リスト**は「Pythonのリスト」ではない。\n",
        "\n",
        "-   リスト\n",
        "    -   一方向リスト（singly-linked list, one-way list）　アルゴリズム図鑑\n",
        "    -   双方向リスト（doubly-linked list, two-way list）\n",
        "\n",
        "問題：[ALDS1_3_C](https://onlinejudge.u-aizu.ac.jp/courses/lesson/1/ALDS1/3/ALDS1_3_C) (Doubly Linked List)\n",
        "\n",
        "次のようにPythonのリストを使うとTLEになることを確認する。\n",
        "\n",
        "``` python\n",
        "n = int(input())\n",
        "A = []\n",
        "\n",
        "for _ in range(n):\n",
        "  tmp = input().split()\n",
        "  if tmp[0].startswith(\"insert\"): A.insert(0, int(tmp[1]))\n",
        "  elif tmp[0].startswith(\"deleteF\"): A.pop(0)\n",
        "  elif tmp[0].startswith(\"deleteL\"): A.pop()\n",
        "  else: # delete\n",
        "    try: A.remove(int(tmp[1]))\n",
        "    except ValueError: pass\n",
        "\n",
        "print(*A)\n",
        "```"
      ],
      "metadata": {
        "id": "4dhJThCWhj4T"
      },
      "id": "4dhJThCWhj4T"
    },
    {
      "cell_type": "markdown",
      "source": [
        "### ライブラリを使う場合"
      ],
      "metadata": {
        "id": "nDiKvdZUhj4T"
      },
      "id": "nDiKvdZUhj4T"
    },
    {
      "cell_type": "markdown",
      "source": [
        "\n",
        "`collections.deque`を代用する。使用するメソッドは表のとおり。\n",
        "\n",
        "| 教科書         | `A = deque()`     |\n",
        "|----------------|-------------------|\n",
        "| `insert(x)`    | `A.appendleft(x)` |\n",
        "| `deleteKey(x)` | `A.remove(x)`     |\n",
        "| `deleteFirst`  | `A.popleft()`     |\n",
        "| `deleteLast`   | `A.pop()`         |\n",
        "\n",
        "ヒント：`A.remove(x)`は，`x`が`A`に含まれない場合に`ValueError`を発生させる。ここでは，次のようにしてこれを無視する。\n",
        "\n",
        "``` python\n",
        "try: A.remove(x)\n",
        "except ValueError: pass\n",
        "```"
      ],
      "metadata": {
        "id": "Opz3x4ZShj4T"
      },
      "id": "Opz3x4ZShj4T"
    },
    {
      "cell_type": "markdown",
      "source": [
        "### ライブラリを使わない場合"
      ],
      "metadata": {
        "id": "IqCBO9wRhj4T"
      },
      "id": "IqCBO9wRhj4T"
    },
    {
      "cell_type": "markdown",
      "source": [
        "\n",
        "双方向連結リストのクラス`List`を実装する。ライブラリを使う場合のコードへの変更が最小限になるようにしよう。`A = deque()`としていたなら，次の変更が必要だろう。\n",
        "\n",
        "-   `List`の定義を追加する。\n",
        "-   `A = deque()`を`A = List()`に変える。\n",
        "-   `print(*A)`を`A.print()`に変える。\n",
        "\n",
        "> Pythonで双方向連結リストのクラスListを実装する。リストのノードはクラスNodeのインスタンスで，番兵はnilとする。公開メソッドはappendleft，remove，popleft，pop，printだけ。removeは，リストを先頭から走査して，指定した値をもつ要素で最初に見つかるものを削除する。指定した値をもつ要素が存在しない場合はValueErrorを発生させる。popleftとpopではremoveを使えないことに注意する。printはリストの全要素を空白をはさんで連結した文字列を表示する。\n",
        "\n",
        "生成されるコードを修正した例を示す。"
      ],
      "metadata": {
        "id": "U3JOH5E1hj4T"
      },
      "id": "U3JOH5E1hj4T"
    },
    {
      "cell_type": "code",
      "execution_count": null,
      "metadata": {
        "id": "Wt6I2CL3hj4T"
      },
      "outputs": [],
      "source": [
        "%%writefile List.py\n",
        "class Node:\n",
        "  def __init__(self, value=None):\n",
        "    self.value = value  # ノードの値\n",
        "    self.prev = None  # 前のノードへのポインタ\n",
        "    self.next = None  # 次のノードへのポインタ\n",
        "\n",
        "class List:\n",
        "  def __init__(self):\n",
        "    self.nil = Node()  # 番兵ノード（nil）\n",
        "    self.nil.prev = self.nil  # 番兵の前のノードは自分自身\n",
        "    self.nil.next = self.nil  # 番兵の次のノードは自分自身\n",
        "    self.size = 0  # リストのサイズ\n",
        "\n",
        "  def appendleft(self, value):\n",
        "    \"\"\"リストの先頭に要素を追加\"\"\"\n",
        "    new_node = Node(value)\n",
        "    new_node.next = self.nil.next\n",
        "    new_node.prev = self.nil\n",
        "    self.nil.next.prev = new_node\n",
        "    self.nil.next = new_node\n",
        "    self.size += 1\n",
        "\n",
        "  def remove(self, value):\n",
        "    \"\"\"指定した値を持つ最初のノードを削除\"\"\"\n",
        "    current = self.nil.next\n",
        "    while current != self.nil:\n",
        "      if current.value == value:\n",
        "        current.prev.next = current.next\n",
        "        current.next.prev = current.prev\n",
        "        self.size -= 1\n",
        "        return\n",
        "      current = current.next\n",
        "    raise ValueError(f\"{value} not found in list\")\n",
        "\n",
        "  def popleft(self):\n",
        "    \"\"\"リストの先頭の要素を削除して返す\"\"\"\n",
        "    if self.size == 0:\n",
        "      raise IndexError(\"pop from empty list\")\n",
        "\n",
        "    # 先頭のノードを削除\n",
        "    value = self.nil.next.value\n",
        "    self.nil.next = self.nil.next.next\n",
        "    self.nil.next.prev = self.nil\n",
        "    self.size -= 1\n",
        "\n",
        "    return value\n",
        "\n",
        "  def pop(self):\n",
        "    \"\"\"リストの末尾の要素を削除して返す\"\"\"\n",
        "    if self.size == 0:\n",
        "      raise IndexError(\"pop from empty list\")\n",
        "\n",
        "    # 末尾のノードを削除\n",
        "    value = self.nil.prev.value\n",
        "    self.nil.prev = self.nil.prev.prev\n",
        "    self.nil.prev.next = self.nil\n",
        "    self.size -= 1\n",
        "\n",
        "    return value\n",
        "\n",
        "  def print(self):\n",
        "    \"\"\"リストの全要素を空白を挟んで連結した文字列を表示\"\"\"\n",
        "    current = self.nil.next\n",
        "    values = []\n",
        "    while current != self.nil:\n",
        "      values.append(str(current.value))\n",
        "      current = current.next\n",
        "    print(\" \".join(values))"
      ],
      "id": "Wt6I2CL3hj4T"
    },
    {
      "cell_type": "markdown",
      "source": [
        "## 宿題"
      ],
      "metadata": {
        "id": "MkpEs6IYhj4U"
      },
      "id": "MkpEs6IYhj4U"
    },
    {
      "cell_type": "markdown",
      "source": [
        "\n",
        "以下の問題をAC（Accepted）にする。Pythonを使うこと。\n",
        "\n",
        "-   [A51](https://atcoder.jp/contests/tessoku-book/tasks/tessoku_book_ay) (Stack)\n",
        "-   ♠[ALDS1_3_A](https://onlinejudge.u-aizu.ac.jp/courses/lesson/1/ALDS1/3/ALDS1_3_A) (Stack)\n",
        "-   [A52](https://atcoder.jp/contests/tessoku-book/tasks/tessoku_book_az) (Queue)\n",
        "-   ♠[ALDS1_3_B](https://onlinejudge.u-aizu.ac.jp/courses/lesson/1/ALDS1/3/ALDS1_3_B) (Queue)\n",
        "-   [ALDS1_3_C](https://onlinejudge.u-aizu.ac.jp/courses/lesson/1/ALDS1/3/ALDS1_3_C) (Doubly Linked List)\n",
        "-   ♠[ALDS1_3_D](https://onlinejudge.u-aizu.ac.jp/courses/lesson/1/ALDS1/3/ALDS1_3_D) (Areas on the Cross-Section Diagram)\n",
        "\n",
        "以上"
      ],
      "metadata": {
        "id": "ShHBqXwfhj4U"
      },
      "id": "ShHBqXwfhj4U"
    }
  ],
  "nbformat": 4,
  "nbformat_minor": 5,
  "metadata": {
    "colab": {
      "provenance": [],
      "toc_visible": true
    },
    "language_info": {
      "name": "python"
    },
    "kernelspec": {
      "name": "python3",
      "display_name": "Python 3"
    }
  }
}